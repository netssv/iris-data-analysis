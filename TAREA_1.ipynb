{
  "cells": [
    {
      "cell_type": "code",
      "execution_count": null,
      "metadata": {
        "colab": {
          "base_uri": "https://localhost:8080/"
        },
        "collapsed": true,
        "id": "a-nlSKa1AS1E",
        "outputId": "c051025b-ecc3-4fad-c765-64dfb197916f"
      },
      "outputs": [
        {
          "name": "stdout",
          "output_type": "stream",
          "text": [
            "Requirement already satisfied: pandas in /usr/local/lib/python3.11/dist-packages (2.2.2)\n",
            "Requirement already satisfied: seaborn in /usr/local/lib/python3.11/dist-packages (0.13.2)\n",
            "Requirement already satisfied: numpy>=1.23.2 in /usr/local/lib/python3.11/dist-packages (from pandas) (2.0.2)\n",
            "Requirement already satisfied: python-dateutil>=2.8.2 in /usr/local/lib/python3.11/dist-packages (from pandas) (2.9.0.post0)\n",
            "Requirement already satisfied: pytz>=2020.1 in /usr/local/lib/python3.11/dist-packages (from pandas) (2025.2)\n",
            "Requirement already satisfied: tzdata>=2022.7 in /usr/local/lib/python3.11/dist-packages (from pandas) (2025.2)\n",
            "Requirement already satisfied: matplotlib!=3.6.1,>=3.4 in /usr/local/lib/python3.11/dist-packages (from seaborn) (3.10.0)\n",
            "Requirement already satisfied: contourpy>=1.0.1 in /usr/local/lib/python3.11/dist-packages (from matplotlib!=3.6.1,>=3.4->seaborn) (1.3.2)\n",
            "Requirement already satisfied: cycler>=0.10 in /usr/local/lib/python3.11/dist-packages (from matplotlib!=3.6.1,>=3.4->seaborn) (0.12.1)\n",
            "Requirement already satisfied: fonttools>=4.22.0 in /usr/local/lib/python3.11/dist-packages (from matplotlib!=3.6.1,>=3.4->seaborn) (4.58.4)\n",
            "Requirement already satisfied: kiwisolver>=1.3.1 in /usr/local/lib/python3.11/dist-packages (from matplotlib!=3.6.1,>=3.4->seaborn) (1.4.8)\n",
            "Requirement already satisfied: packaging>=20.0 in /usr/local/lib/python3.11/dist-packages (from matplotlib!=3.6.1,>=3.4->seaborn) (24.2)\n",
            "Requirement already satisfied: pillow>=8 in /usr/local/lib/python3.11/dist-packages (from matplotlib!=3.6.1,>=3.4->seaborn) (11.2.1)\n",
            "Requirement already satisfied: pyparsing>=2.3.1 in /usr/local/lib/python3.11/dist-packages (from matplotlib!=3.6.1,>=3.4->seaborn) (3.2.3)\n",
            "Requirement already satisfied: six>=1.5 in /usr/local/lib/python3.11/dist-packages (from python-dateutil>=2.8.2->pandas) (1.17.0)\n"
          ]
        }
      ],
      "source": [
        "# Simple Data Analysis with Iris Dataset\n",
        "# Easy to understand and replicate\n",
        "\n",
        "# 1. Install libraries (if needed)\n",
        "# !pip install pandas seaborn matplotlib\n",
        "\n",
        "print(\"Starting data analysis project...\")"
      ]
    },
    {
      "cell_type": "code",
      "execution_count": null,
      "metadata": {
        "id": "3MTuPZTHCMjo"
      },
      "outputs": [],
      "source": [
        "# 2. Import libraries\n",
        "import pandas as pd\n",
        "import seaborn as sns\n",
        "import matplotlib.pyplot as plt\n",
        "\n",
        "# Import our simple classes\n",
        "from data_preprocessor import DataAnalyzer\n",
        "\n",
        "print(\"Libraries imported successfully!\")"
      ]
    },
    {
      "cell_type": "code",
      "execution_count": null,
      "metadata": {
        "colab": {
          "base_uri": "https://localhost:8080/"
        },
        "id": "WywlRYueCR9N",
        "outputId": "b9c15e67-6130-4cdc-c2f5-f8ccff9e9f67"
      },
      "outputs": [
        {
          "name": "stdout",
          "output_type": "stream",
          "text": [
            "Dataset cargado:\n",
            "   sepal_length  sepal_width  petal_length  petal_width species\n",
            "0           5.1          3.5           1.4          0.2  setosa\n",
            "1           4.9          3.0           1.4          0.2  setosa\n",
            "2           4.7          3.2           1.3          0.2  setosa\n",
            "3           4.6          3.1           1.5          0.2  setosa\n",
            "4           5.0          3.6           1.4          0.2  setosa\n"
          ]
        }
      ],
      "source": [
        "# 3. Load the Iris dataset\n",
        "iris = sns.load_dataset('iris')\n",
        "\n",
        "print(\"Iris dataset loaded!\")\n",
        "print(f\"Shape: {iris.shape}\")\n",
        "print(\"\\nFirst 5 rows:\")\n",
        "print(iris.head())"
      ]
    },
    {
      "cell_type": "code",
      "execution_count": null,
      "metadata": {
        "id": "yCwGVzz1Cnns"
      },
      "outputs": [],
      "source": [
        "# 4. Create data analyzer\n",
        "analyzer = DataAnalyzer()\n",
        "print(\"Data analyzer created!\")"
      ]
    },
    {
      "cell_type": "code",
      "execution_count": null,
      "metadata": {
        "colab": {
          "base_uri": "https://localhost:8080/"
        },
        "id": "lT0hXiogCptW",
        "outputId": "50646200-a220-4248-dc48-079d24889ec0"
      },
      "outputs": [
        {
          "name": "stdout",
          "output_type": "stream",
          "text": [
            "Datos cargados: 150 filas, 5 columnas\n",
            "Antes de limpiar: 150 filas\n",
            "Después de limpiar: 149 filas\n",
            "=== RESUMEN ESTADÍSTICO ===\n",
            "\n",
            "Media:\n",
            "sepal_length    5.843624\n",
            "sepal_width     3.059732\n",
            "petal_length    3.748993\n",
            "petal_width     1.194631\n",
            "dtype: float64\n",
            "\n",
            "Máximo:\n",
            "sepal_length    7.9\n",
            "sepal_width     4.4\n",
            "petal_length    6.9\n",
            "petal_width     2.5\n",
            "dtype: float64\n",
            "\n",
            "Mínimo:\n",
            "sepal_length    4.3\n",
            "sepal_width     2.0\n",
            "petal_length    1.0\n",
            "petal_width     0.1\n",
            "dtype: float64\n"
          ]
        }
      ],
      "source": [
        "# 5. Load, clean and analyze data\n",
        "\n",
        "# Load data into analyzer\n",
        "analyzer.load_data(iris)\n",
        "\n",
        "# Clean the data\n",
        "analyzer.clean_data()\n",
        "\n",
        "# Show statistical summary\n",
        "print(\"\\n\" + \"=\"*50)\n",
        "stats = analyzer.summary()\n",
        "\n",
        "# Show correlation between variables\n",
        "print(\"\\n\" + \"=\"*50)\n",
        "correlation = analyzer.correlation()"
      ]
    },
    {
      "cell_type": "code",
      "execution_count": null,
      "metadata": {
        "colab": {
          "base_uri": "https://localhost:8080/",
          "height": 714
        },
        "id": "GM5rY3dWDDiy",
        "outputId": "d8d73621-c1ea-412b-f71e-dc04077f40e0"
      },
      "outputs": [
        {
          "name": "stderr",
          "output_type": "stream",
          "text": [
            "/tmp/ipython-input-9-3792638162.py:8: FutureWarning: \n",
            "\n",
            "Passing `palette` without assigning `hue` is deprecated and will be removed in v0.14.0. Assign the `x` variable to `hue` and set `legend=False` for the same effect.\n",
            "\n",
            "  sns.barplot(x=promedio_petalos.index, y=promedio_petalos.values, palette='viridis')\n"
          ]
        },
        {
          "data": {
            "image/png": "[encoded data removed]",
            "text/plain": [
              "<Figure size 800x600 with 1 Axes>"
            ]
          },
          "metadata": {},
          "output_type": "display_data"
        }
      ],
      "source": [
        "# 6. Create simple visualizations\n",
        "\n",
        "# Bar plot: Average petal length by species\n",
        "plt.figure(figsize=(10, 6))\n",
        "avg_petal_length = analyzer.df.groupby('species')['petal_length'].mean()\n",
        "\n",
        "sns.barplot(x=avg_petal_length.index, y=avg_petal_length.values, palette='viridis')\n",
        "plt.title('Average Petal Length by Species', fontsize=14, fontweight='bold')\n",
        "plt.xlabel('Species')\n",
        "plt.ylabel('Average Petal Length (cm)')\n",
        "\n",
        "# Add values on bars\n",
        "for i, v in enumerate(avg_petal_length.values):\n",
        "    plt.text(i, v + 0.05, f'{v:.2f}', ha='center', fontweight='bold')\n",
        "\n",
        "plt.tight_layout()\n",
        "plt.show()\n",
        "\n",
        "# Scatter plot: Petal length vs width\n",
        "plt.figure(figsize=(10, 6))\n",
        "sns.scatterplot(data=analyzer.df, x='petal_length', y='petal_width', \n",
        "                hue='species', s=80)\n",
        "plt.title('Petal Length vs Petal Width by Species', fontsize=14, fontweight='bold')\n",
        "plt.xlabel('Petal Length (cm)')\n",
        "plt.ylabel('Petal Width (cm)')\n",
        "plt.tight_layout()\n",
        "plt.show()"
      ]
    },
    {
      "cell_type": "code",
      "execution_count": null,
      "metadata": {
        "colab": {
          "base_uri": "https://localhost:8080/"
        },
        "id": "Tz3-Ns7WEjFO",
        "outputId": "8eb992aa-9144-4f0d-d2b5-20edb9057d24"
      },
      "outputs": [
        {
          "name": "stdout",
          "output_type": "stream",
          "text": [
            "Datos guardados en: iris_limpio.csv\n",
            "\n",
            "¡Análisis completado!\n"
          ]
        }
      ],
      "source": [
        "# 7. Export clean data\n",
        "analyzer.export_data('iris_clean.csv')\n",
        "\n",
        "print(\"\\n\" + \"=\"*50)\n",
        "print(\"ANALYSIS COMPLETE!\")\n",
        "print(\"=\"*50)\n",
        "print(\"✓ Data loaded and cleaned\")\n",
        "print(\"✓ Statistical analysis performed\") \n",
        "print(\"✓ Visualizations created\")\n",
        "print(\"✓ Clean data exported to 'iris_clean.csv'\")\n",
        "print(\"\\nThis simple analysis shows:\")\n",
        "print(\"- Basic data preprocessing\")\n",
        "print(\"- Statistical summaries\") \n",
        "print(\"- Data visualization\")\n",
        "print(\"- Results export\")"
      ]
    },
    {
      "cell_type": "markdown",
      "metadata": {},
      "source": [
        "# Simple Data Analysis Project\n",
        "\n",
        "## What this code does:\n",
        "- **Loads data**: From CSV files or DataFrames\n",
        "- **Cleans data**: Removes null values and duplicates  \n",
        "- **Analyzes data**: Shows statistics and correlations\n",
        "- **Visualizes data**: Creates charts and plots\n",
        "- **Exports data**: Saves clean data to CSV\n",
        "\n",
        "## How to use it:\n",
        "1. Run each cell in order\n",
        "2. The code uses the Iris dataset as an example\n",
        "3. You can replace `iris` with your own data\n",
        "4. All results are saved automatically\n",
        "\n",
        "## Files created:\n",
        "- `data_preprocessor.py`: Simple classes for data analysis\n",
        "- `iris_clean.csv`: Cleaned dataset\n",
        "\n",
        "This project shows basic data science workflow in simple, reusable code!"
      ]
    }
  ],
  "metadata": {
    "colab": {
      "provenance": []
    },
    "kernelspec": {
      "display_name": "Python 3",
      "name": "python3"
    },
    "language_info": {
      "name": "python"
    }
  },
  "nbformat": 4,
  "nbformat_minor": 0
}
